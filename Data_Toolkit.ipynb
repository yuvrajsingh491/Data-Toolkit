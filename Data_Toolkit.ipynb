{
  "nbformat": 4,
  "nbformat_minor": 0,
  "metadata": {
    "colab": {
      "provenance": []
    },
    "kernelspec": {
      "name": "python3",
      "display_name": "Python 3"
    },
    "language_info": {
      "name": "python"
    }
  },
  "cells": [
    {
      "cell_type": "markdown",
      "source": [
        "Q1 What is NumPy, and why is it widely used in Python?\n",
        "\n",
        "- NumPy (Numerical Python) is a powerful open-source library in Python used for numerical and scientific computing. It provides support for large, multi-dimensional arrays and matrices, along with a wide variety of mathematical functions to operate on these arrays.\n",
        "\n",
        "🔍 Key Features of NumPy\n",
        "N-Dimensional Array (ndarray)\n",
        "Central to NumPy is the ndarray, a fast, flexible container for large datasets in Python.\n",
        "\n",
        "Broadcasting\n",
        "Allows NumPy to perform arithmetic operations on arrays of different shapes in a memory-efficient way.\n",
        "\n",
        "Vectorization\n",
        "Eliminates the need for loops by applying operations to entire arrays, improving speed and efficiency.\n",
        "\n",
        "Integration with C/C++ and Fortran\n",
        "Enables high-performance computation by interfacing with code written in other languages.\n",
        "\n",
        "Extensive Mathematical Functions\n",
        "Includes operations such as linear algebra, statistics, Fourier transforms, and random number generation.\n",
        "\n",
        "✅ Why NumPy is Widely Used\n",
        "Performance: Significantly faster than native Python lists due to internal implementation in C.\n",
        "\n",
        "Foundation for Data Science Libraries: Libraries like Pandas, SciPy, Scikit-learn, TensorFlow, and PyTorch are built on top of NumPy.\n",
        "\n",
        "Ease of Use: Clean syntax and powerful tools for array manipulation.\n",
        "\n",
        "Memory Efficiency: Uses less memory than Python lists for storing numerical data.\n",
        "\n",
        "\n",
        "import numpy as np\n",
        "\n",
        "a = np.array([1, 2, 3])\n",
        "b = np.array([4, 5, 6])\n",
        "sum_ab = a + b  # [5, 7, 9]\n",
        "\n",
        "\n",
        "Q2 How does broadcasting work in NumPy?\n",
        "\n",
        "- Broadcasting is a powerful feature in NumPy that allows you to perform arithmetic operations on arrays of different shapes without explicitly replicating data. It follows a set of rules to \"stretch\" arrays so they can be compatible for element-wise operations.\n",
        "\n",
        " import numpy as np\n",
        "\n",
        "a = np.array([1, 2, 3])      # Shape: (3,)\n",
        "b = np.array([[10], [20]])   # Shape: (2, 1)\n",
        "\n",
        "# Result of broadcasting:\n",
        "result = a + b               # Shape: (2, 3)\n",
        "\n",
        "\n",
        " Broadcasting Rules\n",
        "When performing operations on two arrays, NumPy compares their shapes element-wise, starting from the trailing dimensions:\n",
        "\n",
        "If the dimensions are equal, no broadcasting is needed.\n",
        "\n",
        "If one of the dimensions is 1, it is stretched to match the other.\n",
        "\n",
        "If dimensions don’t match and neither is 1, it raises an error.\n",
        "\n",
        "Q3 What is a Pandas DataFrame?\n",
        "\n",
        "- A Pandas DataFrame is a 2-dimensional, tabular data structure in Python — much like an Excel spreadsheet or an SQL table — that allows you to store and manipulate labeled data easily.\n",
        "\n",
        "It comes from the Pandas library, which is built on top of NumPy and is widely used for data analysis, manipulation, and cleaning.\n",
        "\n",
        "✅ Key Characteristics of a DataFrame\n",
        "Rows and Columns: It has labeled axes — rows (index) and columns (column labels).\n",
        "\n",
        "Heterogeneous Data: Different columns can have different data types (e.g., int, float, string).\n",
        "\n",
        "Size Mutable: You can add or remove rows and columns.\n",
        "\n",
        "Rich Functionality: Includes methods for filtering, grouping, joining, reshaping, summarizing, and more.\n",
        "\n",
        "import pandas as pd\n",
        "\n",
        "data = {\n",
        "    'Name': ['Alice', 'Bob', 'Charlie'],\n",
        "    'Age': [25, 30, 35],\n",
        "    'City': ['New York', 'Delhi', 'London']\n",
        "}\n",
        "\n",
        "df = pd.DataFrame(data)\n",
        "print(df)\n",
        "\n",
        "Q4 Explain the use of the groupby() method in Pandas?\n",
        "\n",
        "- The groupby() method in Pandas is used to split data into groups based on some criteria, then apply a function to each group independently, and finally combine the results.\n",
        "\n",
        "This is part of the \"Split–Apply–Combine\" strategy in data analysis.\n",
        "\n",
        "ou can follow it with functions like:\n",
        "\n",
        ".sum()\n",
        "\n",
        ".mean()\n",
        "\n",
        ".count()\n",
        "\n",
        ".agg()\n",
        "\n",
        ".apply()\n",
        "\n",
        "import pandas as pd\n",
        "\n",
        "data = {\n",
        "    'Department': ['Sales', 'Sales', 'HR', 'HR', 'IT'],\n",
        "    'Employee': ['Alice', 'Bob', 'Charlie', 'David', 'Eve'],\n",
        "    'Salary': [50000, 60000, 45000, 47000, 70000]\n",
        "}\n",
        "\n",
        "df = pd.DataFrame(data)\n",
        "\n",
        "# Group by Department and calculate average salary\n",
        "grouped = df.groupby('Department')['Salary'].mean()\n",
        "print(grouped)\n",
        "\n",
        "\n",
        "Q5 Why is Seaborn preferred for statistical visualizations?\n",
        "\n",
        "- Seaborn is a high-level data visualization library built on top of Matplotlib, and it’s specifically designed for statistical graphics. It’s widely preferred for its ease of use, beautiful default styles, and powerful features for visualizing complex datasets.\n",
        "\n",
        "Key Reasons Seaborn is Preferred\n",
        "1. Simplified Syntax\n",
        "Seaborn provides easy-to-use functions for creating complex plots with minimal code.\n",
        "\n",
        "2. Built-in Statistical Plots\n",
        "It offers ready-made functions for common statistical tasks like:\n",
        "\n",
        "Distribution plots: sns.histplot(), sns.kdeplot()\n",
        "\n",
        "Categorical plots: sns.boxplot(), sns.violinplot(), sns.barplot()\n",
        "\n",
        "Regression plots: sns.regplot(), sns.lmplot()\n",
        "\n",
        "Heatmaps: sns.heatmap()\n",
        "\n",
        "3. Beautiful Default Aesthetics\n",
        "Seaborn comes with pleasing default color palettes and themes, making visualizations more publication-ready.\n",
        "\n",
        "4. Works Well with Pandas\n",
        "Seaborn is designed to work directly with Pandas DataFrames, making it easy to visualize real-world data.\n",
        "\n",
        "5. Built-in Aggregation\n",
        "Many Seaborn functions perform statistical aggregation automatically, such as showing confidence intervals or means, without extra code.\n",
        "\n",
        "6. Combines Well with Matplotlib\n",
        "You can fine-tune Seaborn plots using Matplotlib functions, giving you both ease and flexibility.\n",
        "\n",
        "Q6 What are the differences between NumPy arrays and Python lists?\n",
        "\n",
        "- Both NumPy arrays and Python lists can store collections of elements, but they are fundamentally different in terms of performance, functionality, and use cases.\n",
        "\n",
        "Type of Data:\n",
        "\n",
        "NumPy arrays can only hold one type of data (e.g., all integers or all floats), while Python lists can hold different types (e.g., a mix of numbers, strings, etc.).\n",
        "\n",
        "Speed:\n",
        "\n",
        "NumPy arrays are much faster than Python lists because they use C language under the hood and support vectorized operations (no need for loops).\n",
        "\n",
        "Memory:\n",
        "\n",
        "NumPy arrays use less memory than Python lists. Lists are less efficient because each item is a separate Python object.\n",
        "\n",
        "Math Operations:\n",
        "\n",
        "You can directly do math with NumPy arrays (like array * 2, array + 5, etc.). With Python lists, you have to use loops or functions like map().\n",
        "\n",
        "Multidimensional Data:\n",
        "\n",
        "NumPy supports multi-dimensional arrays like matrices and tensors very well. Python lists can do this too, but you need to use nested lists, which are harder to work with.\n",
        "\n",
        "Broadcasting:\n",
        "\n",
        "NumPy can handle operations between arrays of different shapes automatically. Python lists don’t support this feature — you’d have to manage sizes yourself.\n",
        "\n",
        "Indexing and Slicing:\n",
        "\n",
        "NumPy allows advanced indexing, slicing, and filtering. Python lists only support basic indexing.\n",
        "\n",
        "Built-in or Not:\n",
        "\n",
        "Python lists are built into Python, while NumPy arrays require you to import the NumPy library.\n",
        "\n",
        "\n",
        "Q7 What is a heatmap, and when should it be used?\n",
        "\n",
        "- A heatmap is a data visualization technique that uses color to represent values in a matrix or 2D dataset. Each cell in the grid is colored based on its numeric value — usually with darker or brighter shades to indicate higher or lower values.\n",
        "\n",
        "You should use a heatmap when you want to:\n",
        "\n",
        "Visualize Correlations\n",
        "\n",
        "Show relationships between variables (e.g., using a correlation matrix).\n",
        "\n",
        "Compare Values Across Two Dimensions\n",
        "\n",
        "Great for comparing values across rows and columns, such as in pivot tables or confusion matrices.\n",
        "\n",
        "Identify Patterns or Outliers\n",
        "\n",
        "Spot trends, clusters, or unusual values in large datasets.\n",
        "\n",
        "Visualize Frequency or Density\n",
        "\n",
        "Useful in cases like showing how often an event occurs (e.g., in time vs category grids\n",
        "\n",
        "import seaborn as sns\n",
        "import matplotlib.pyplot as plt\n",
        "import pandas as pd\n",
        "\n",
        "# Example: Correlation heatmap\n",
        "data = pd.DataFrame({\n",
        "    'Math': [80, 90, 70, 60],\n",
        "    'Physics': [75, 85, 65, 55],\n",
        "    'Chemistry': [82, 88, 68, 58]\n",
        "})\n",
        "\n",
        "corr = data.corr()\n",
        "sns.heatmap(corr, annot=True, cmap='coolwarm')\n",
        "plt.title(\"Subject Score Correlation\")\n",
        "plt.show()\n",
        "\n",
        "Q8 What does the term “vectorized operation” mean in NumPy?\n",
        "\n",
        "- A vectorized operation means performing operations on entire arrays (vectors, matrices, etc.) without using explicit loops. These operations happen element-wise and are optimized for speed and efficiency.\n",
        "\n",
        " Simple Explanation\n",
        "\n",
        "Instead of processing elements one-by-one using for loops, NumPy can apply operations to all elements at once using low-level, compiled C code under the hood.\n",
        "\n",
        " Using a loop (plain Python):\n",
        "\n",
        " a = [1, 2, 3]\n",
        "b = [4, 5, 6]\n",
        "result = [a[i] + b[i] for i in range(len(a))]\n",
        "\n",
        "Using vectorized operation (NumPy)\n",
        "\n",
        "import numpy as np\n",
        "a = np.array([1, 2, 3])\n",
        "b = np.array([4, 5, 6])\n",
        "result = a + b  # No loop needed!\n",
        "\n",
        "Q9 A How does Matplotlib differ from Plotly\n",
        "\n",
        "- Matplotlib and Plotly are both popular Python libraries for creating visualizations, but they differ mainly in interactivity and use cases.\n",
        "\n",
        "Matplotlib is primarily used for creating static plots—meaning the charts are fixed images. It’s very powerful and flexible, allowing you to customize almost every aspect of your plots. It’s widely used for scientific publications and situations where you need high-quality, static images.\n",
        "\n",
        "Plotly, in contrast, focuses on interactive visualizations. Plots made with Plotly let users zoom, pan, hover to see more details, and interact directly with the chart, usually in a web browser or Jupyter notebooks. This makes Plotly great for exploratory data analysis, dashboards, and presentations where user interaction is important.\n",
        "\n",
        "Q10 What is the significance of hierarchical indexing in Pandas?\n",
        "- Hierarchical indexing (also called MultiIndex) allows Pandas to handle and organize multi-dimensional data in a two-dimensional DataFrame or Series by using multiple levels of indexing on rows or columns.\n",
        "\n",
        "Why is it important?\n",
        "Efficiently Manage Complex Data\n",
        "It lets you work with data that has multiple categories or layers — like sales data by year, region, and product — all in one DataFrame.\n",
        "\n",
        "Easy Data Selection and Aggregation\n",
        "You can easily select, filter, and aggregate data at different levels of the hierarchy, making complex data manipulation simpler.\n",
        "\n",
        "Compact Representation\n",
        "Instead of flattening or spreading out data into many columns, hierarchical indexing keeps related data grouped logically and compactly.\n",
        "\n",
        "Powerful Grouping\n",
        "Works very well with operations like groupby(), allowing you to group by multiple levels easily.\n",
        "\n",
        "Example:\n",
        "Imagine you have sales data indexed first by Country, then by City. Hierarchical indexing lets you access all cities in one country easily or drill down to a specific city’s data without restructuring the DataFrame.\n",
        "\n",
        "Q11 What is the role of Seaborn’s pairplot() function?\n",
        "\n",
        "- Seaborn’s pairplot() function is used to visualize relationships between multiple numerical variables in a dataset all at once. It creates a grid of plots where:\n",
        "\n",
        "The diagonal shows the distribution of each variable (like histograms or KDE plots).\n",
        "\n",
        "The off-diagonal plots show scatterplots (or other relationship plots) between every pair of variables.\n",
        "\n",
        "Why use pairplot()?\n",
        "It helps you quickly explore correlations and patterns between variables.\n",
        "\n",
        "You can spot trends, clusters, or potential outliers easily.\n",
        "\n",
        "It’s great for exploratory data analysis (EDA) when you want an overview of how features relate to each other.\n",
        "\n",
        "import seaborn as sns\n",
        "import pandas as pd\n",
        "\n",
        "# Load example dataset\n",
        "df = sns.load_dataset('iris')\n",
        "\n",
        "# Create pairplot\n",
        "sns.pairplot(df, hue='species')\n",
        "\n",
        "Q12  What is the purpose of the describe() function in Pandas?\n",
        "\n",
        "- The describe() function in Pandas is used to generate a quick summary of the basic statistics of a DataFrame or Series. It helps you understand the distribution and key characteristics of your data at a glance.\n",
        "\n",
        "What does it provide?\n",
        "For numerical columns, it typically shows:\n",
        "\n",
        "Count: Number of non-missing values\n",
        "\n",
        "Mean: Average value\n",
        "\n",
        "Standard deviation (std): How spread out the data is\n",
        "\n",
        "Minimum (min) and Maximum (max): Smallest and largest values\n",
        "\n",
        "25%, 50%, 75% (quartiles): Values at those percentiles, showing the data spread\n",
        "\n",
        "For categorical columns, it can show:\n",
        "\n",
        "Count\n",
        "\n",
        "Unique: Number of unique values\n",
        "\n",
        "Top: Most frequent value\n",
        "\n",
        "Freq: Frequency of the most frequent value\n",
        "\n",
        "Why use it?\n",
        "Quickly get a statistical overview of your dataset\n",
        "\n",
        "Identify data quality issues like missing or extreme values\n",
        "\n",
        "Understand the distribution and spread of data for analysis or preprocessing\n",
        "\n",
        "\n",
        "import pandas as pd\n",
        "\n",
        "df = pd.DataFrame({'age': [23, 45, 31, 35, 29],\n",
        "                   'salary': [50000, 80000, 62000, 58000, 60000]})\n",
        "\n",
        "print(df.describe())\n",
        "\n",
        "Q13 Why is handling missing data important in Pandas?\n",
        "\n",
        "- Handling missing data in Pandas is important because missing or incomplete data can cause errors, inaccurate analysis, or misleading results. Here’s\n",
        "\n",
        " why it matters:\n",
        "\n",
        "Data Integrity:\n",
        "\n",
        "Missing values can distort calculations like averages, sums, or correlations, leading to wrong conclusions.\n",
        "\n",
        "Algorithm Compatibility:\n",
        "\n",
        "Many data analysis and machine learning algorithms cannot handle missing values directly and may fail or give poor results.\n",
        "\n",
        "Accurate Insights:\n",
        "\n",
        "Properly dealing with missing data helps maintain the accuracy and reliability of your analysis.\n",
        "\n",
        "Avoid Bias:\n",
        "\n",
        "Ignoring or improperly handling missing data might introduce bias if the missingness is systematic.\n",
        "\n",
        "Data Cleaning:\n",
        "\n",
        "Handling missing values is a crucial step in cleaning and preparing data for modeling or visualization.\n",
        "\n",
        "Common ways to handle missing data in Pandas:\n",
        "\n",
        "Remove missing values using dropna()\n",
        "\n",
        "Fill missing values with meaningful substitutes using fillna()\n",
        "\n",
        "Interpolate or estimate missing values\n",
        "\n",
        "\n",
        "Q14 What are the benefits of using Plotly for data visualization?\n",
        "\n",
        "- Interactive Charts: Plotly makes it easy to create charts where users can zoom, pan, hover over points for details, and toggle different data series.\n",
        "\n",
        "1. Beautiful and Modern Designs: The visualizations look polished and professional right away, helping you create engaging presentations or dashboards.\n",
        "\n",
        "2. Many Chart Types: Plotly supports a wide variety of charts, including line, bar, scatter, pie, heatmaps, 3D plots, maps, and more.\n",
        "\n",
        "3. Great for Web and Dashboards: Plotly charts are web-friendly and can be embedded easily into websites or interactive dashboards, especially using tools like Dash.\n",
        "\n",
        "4. Works Well in Jupyter Notebooks: It integrates smoothly with Jupyter notebooks, making data exploration and sharing results easier.\n",
        "\n",
        "5. Customizable: You can tweak almost every part of the chart, allowing flexibility without complicated code.\n",
        "\n",
        "Q15  How does NumPy handle multidimensional arrays?\n",
        "\n",
        "- NumPy handles multidimensional arrays using its core data structure called the ndarray (N-dimensional array). Here’s how it works:\n",
        "\n",
        "A NumPy ndarray can have any number of dimensions — 1D (vector), 2D (matrix), 3D (tensor), and beyond.\n",
        "\n",
        "Each dimension is called an axis. For example, a 2D array has two axes: rows and columns.\n",
        "\n",
        "NumPy stores all elements in a contiguous block of memory, which makes accessing and manipulating data very fast.\n",
        "\n",
        "You can create, index, slice, and perform operations on these arrays across any dimension easily.\n",
        "\n",
        "NumPy supports broadcasting, which lets you perform arithmetic between arrays of different shapes, as long as their dimensions are compatible.\n",
        "\n",
        "import numpy as np\n",
        "\n",
        "# Create a 3D array (2x3x4)\n",
        "arr = np.array([[[1, 2, 3, 4],\n",
        "                 [5, 6, 7, 8],\n",
        "                 [9, 10, 11, 12]],\n",
        "                [[13, 14, 15, 16],\n",
        "                 [17, 18, 19, 20],\n",
        "                 [21, 22, 23, 24]]])\n",
        "\n",
        "print(arr.shape)  # Output: (2, 3, 4)\n",
        "\n",
        "Q16  What is the role of Bokeh in data visualization?\n",
        "\n",
        "- Bokeh is a Python library used for creating interactive, web-ready data visualizations. Its main role is to help you build rich, interactive plots and dashboards that can be easily embedded in web applications or displayed in Jupyter notebooks.\n",
        "\n",
        "Key roles of Bokeh in data visualization:\n",
        "\n",
        "1. Interactive Visuals\n",
        "Bokeh lets users zoom, pan, hover over points for tooltips, and select or filter data interactively.\n",
        "\n",
        "2. Web Integration\n",
        "\n",
        "It generates JavaScript-based plots that run in web browsers without needing additional plugins.\n",
        "\n",
        "3. Dashboard Creation\n",
        "\n",
        "Bokeh supports building complex dashboards by combining multiple plots and widgets, making it great for real-time data apps.\n",
        "\n",
        "4. Easy to Use\n",
        "\n",
        "Bokeh’s API is user-friendly, and it integrates well with popular Python data tools like Pandas and NumPy.\n",
        "\n",
        "5. Customizable\n",
        "\n",
        "You can customize nearly every aspect of the plots — from colors and fonts to interactive tools and layouts.\n",
        "\n",
        "\n",
        "Q17 A Explain the difference between apply() and map() in Pandas?\n",
        "\n",
        "- map()\n",
        "Used mainly with a Pandas Series (a single column).\n",
        "\n",
        "It maps values of a Series according to a correspondence (like a dictionary), function, or another Series.\n",
        "\n",
        "It’s often used for replacing or transforming values element-wise.\n",
        "\n",
        "Works only on Series, not DataFrames.\n",
        "\n",
        "s = pd.Series([1, 2, 3])\n",
        "s.map({1: 'one', 2: 'two', 3: 'three'})\n",
        "\n",
        "apply()\n",
        "Can be used on both Series and DataFrames.\n",
        "\n",
        "Applies a function along an axis of the DataFrame or element-wise on a Series.\n",
        "\n",
        "More flexible than map() — can apply complex functions row-wise, column-wise, or element-wise.\n",
        "\n",
        "Useful when you want to apply custom functions to rows or columns.\n",
        "\n",
        "df = pd.DataFrame({'A': [1, 2], 'B': [3, 4]})\n",
        "df.apply(lambda x: x.sum(), axis=1)  # Sum of each row\n",
        "\n",
        "Q18 What are some advanced features of NumPy?\n",
        "\n",
        "-1.  Broadcasting\n",
        "Allows operations on arrays of different shapes without explicit loops, enabling efficient and concise computations.\n",
        "\n",
        "2. Fancy Indexing and Boolean Masking\n",
        "Lets you select and manipulate subsets of arrays using arrays of indices or boolean conditions.\n",
        "\n",
        "3. Vectorized Operations\n",
        "Perform element-wise operations on entire arrays without explicit Python loops, which speeds up computation.\n",
        "\n",
        "4. Structured Arrays and Record Arrays\n",
        "Support for arrays with mixed data types, similar to rows in a database table or a DataFrame.\n",
        "\n",
        "5. Memory Mapping\n",
        "Enables working with large datasets stored on disk without loading everything into memory at once.\n",
        "\n",
        "6. Linear Algebra Functions\n",
        "Provides built-in functions for matrix multiplication, eigenvalues, singular value decomposition, and more.\n",
        "\n",
        "7. Random Number Generation\n",
        "Includes advanced random sampling methods and distributions for simulations and probabilistic modeling.\n",
        "\n",
        "8. FFT (Fast Fourier Transform)\n",
        "Efficient computation of Fourier transforms for signal processing tasks.\n",
        "\n",
        "9. Integration with C/C++ and Fortran\n",
        "Ability to interface with low-level languages for performance-critical code.\n",
        "\n",
        "10. Universal Functions (ufuncs)\n",
        "Fast element-wise functions that can be customized or extended.\n",
        "\n",
        "Q19 A How does Pandas simplify time series analysis?\n",
        "\n",
        "- Pandas simplifies time series analysis in several key ways:\n",
        "\n",
        "1. DateTime Indexing\n",
        "Pandas allows you to easily set and work with dates and times as the index of your data, making it simple to slice, filter, and align data by time periods.\n",
        "\n",
        "2. Resampling and Frequency Conversion\n",
        "You can quickly change the frequency of your data (e.g., daily to monthly) using resampling methods like .resample(), which supports aggregation (sum, mean, etc.) over new time intervals.\n",
        "\n",
        "3. Handling Missing Dates\n",
        "Pandas can automatically handle missing time points, filling or interpolating missing data to keep your time series consistent.\n",
        "\n",
        "4. Time Shifts and Rolling Windows\n",
        "It provides functions to shift data forward or backward in time and apply rolling window calculations like moving averages, making trend analysis easier.\n",
        "\n",
        "5. Date and Time Parsing\n",
        "Pandas can parse dates from strings automatically or with flexible options, simplifying data import and cleaning.\n",
        "\n",
        "6. Time Zone Support\n",
        "You can convert and manage time zones effortlessly, which is important for global datasets.\n",
        "\n",
        "7. Powerful Time-Based Grouping\n",
        "Using .groupby() with time-based keys (like months, years, weekdays) helps summarize and analyze data by specific periods.\n",
        "\n",
        "Q19 How does Pandas simplify time series analysis?\n",
        "\n",
        "- DateTime Indexing\n",
        "You can use dates and times as the index of a DataFrame or Series, allowing for easy slicing, filtering, and aligning data by time.\n",
        "\n",
        "Automatic Date Parsing\n",
        "Pandas can automatically convert strings to datetime objects using pd.to_datetime(), making it simple to prepare your data.\n",
        "\n",
        "Resampling\n",
        "You can change the frequency of your time series (e.g., daily to monthly) using .resample() and apply aggregation methods like mean(), sum(), etc.\n",
        "\n",
        "Rolling Calculations\n",
        "Functions like .rolling() let you compute moving averages and other statistics over time windows.\n",
        "\n",
        "Time Shifting\n",
        "Use .shift() and .tshift() to move data forward or backward in time — useful for creating lag features or comparing past and current data.\n",
        "\n",
        "Time Zone Handling\n",
        "Easily convert between time zones using .tz_localize() and .tz_convert().\n",
        "\n",
        "Easy Grouping by Time Periods\n",
        "Pandas makes it easy to group data by year, month, day, etc., using .groupby() with time-based attributes.\n",
        "\n",
        "Q20 A What is the role of a pivot table in Pandas?\n",
        "\n",
        "- Role of a Pivot Table:\n",
        "Summarization\n",
        "It helps you group data by one or more keys and aggregate values (e.g., sum, average, count).\n",
        "\n",
        "Reshaping Data\n",
        "You can reorganize data by turning unique values from a column into new columns or rows.\n",
        "\n",
        "Multi-level Analysis\n",
        "Pivot tables can handle multiple index levels, letting you analyze data across multiple dimensions (e.g., sales by region and year).\n",
        "\n",
        "Quick Insights\n",
        "They provide a compact view of large datasets — perfect for spotting trends, patterns, or outliers.\n",
        "\n",
        "import pandas as pd\n",
        "\n",
        "data = {\n",
        "    'Department': ['HR', 'IT', 'HR', 'IT'],\n",
        "    'Month': ['Jan', 'Jan', 'Feb', 'Feb'],\n",
        "    'Salary': [3000, 4000, 3200, 4200]\n",
        "}\n",
        "\n",
        "df = pd.DataFrame(data)\n",
        "\n",
        "# Create pivot table\n",
        "pivot = pd.pivot_table(df, values='Salary', index='Department', columns='Month', aggfunc='mean')\n",
        "print(pivot)\n",
        "\n",
        "Q 21 Why is NumPy’s array slicing faster than Python’s list slicing?\n",
        "\n",
        "- 1. Fixed-Type and Contiguous Memory\n",
        "NumPy arrays store data in a contiguous block of memory with a fixed data type (e.g., all integers or floats).\n",
        "\n",
        "This allows NumPy to access memory quickly using low-level, optimized C code.\n",
        "\n",
        "Python lists store references to objects, which are scattered in memory, making access slower.\n",
        "\n",
        "2. Views Instead of Copies\n",
        "When you slice a NumPy array, it usually returns a view of the original data (no copying).\n",
        "\n",
        "In contrast, slicing a Python list creates a new list, which involves copying each element.\n",
        "\n",
        "3. Optimized Underlying Code\n",
        "NumPy is built on top of high-performance C libraries, making operations like slicing very efficient.\n",
        "\n",
        "Python lists are handled by the Python interpreter, which is slower than compiled C.\n",
        "\n",
        "4. No Type Checking in Loops\n",
        "NumPy doesn’t have to check the type of each element during operations.\n",
        "\n",
        "Python lists, being heterogeneous, involve type checks and pointer dereferencing, which slows things down.\n",
        "\n",
        "Q22  What are some common use cases for Seaborn?\n",
        "\n",
        "- 1. Visualizing Distributions\n",
        "Plotting histograms, KDE plots, and box plots to understand how values are spread.\n",
        "\n",
        "Useful for detecting skewness, outliers, or normality.\n",
        "\n",
        "Example: sns.histplot(), sns.boxplot()\n",
        "\n",
        "2. Comparing Categories\n",
        "Showing how data varies across different groups using bar plots or violin plots.\n",
        "\n",
        "Example: Comparing average income by education level using sns.barplot()\n",
        "\n",
        "3. Analyzing Relationships\n",
        "Scatter plots and regression lines help explore relationships between two variables.\n",
        "\n",
        "Example: sns.scatterplot(), sns.regplot(), sns.lmplot()\n",
        "\n",
        "4. Correlation Heatmaps\n",
        "Displaying the correlation between numerical variables using sns.heatmap().\n",
        "\n",
        "Great for spotting strong positive or negative relationships.\n",
        "\n",
        "5. Time Series Data\n",
        "Line plots to analyze trends over time.\n",
        "\n",
        "Example: sns.lineplot() for showing stock price changes over months.\n",
        "\n",
        "6. Pairwise Analysis\n",
        "Automatically plotting pairwise relationships between multiple variables using sns.pairplot().\n",
        "\n",
        "Common in exploratory data analysis (EDA).\n",
        "\n",
        "7. Facet Grids (Multiple Subplots)\n",
        "Creating multiple plots split by a category for comparison using sns.FacetGrid() or sns.catplot().\n",
        "\n",
        "\n"
      ],
      "metadata": {
        "id": "VHUOb0uxpDMi"
      }
    },
    {
      "cell_type": "code",
      "source": [
        "#Q1 How do you create a 2D NumPy array and calculate the sum of each row"
      ],
      "metadata": {
        "id": "dKCiP6436_x0"
      },
      "execution_count": null,
      "outputs": []
    },
    {
      "cell_type": "code",
      "source": [
        "import numpy as np\n",
        "\n",
        "# Create a 2D array (3 rows, 4 columns)\n",
        "arr = np.array([[1, 2, 3, 4],\n",
        "                [5, 6, 7, 8],\n",
        "                [9, 10, 11, 12]])\n",
        "\n",
        "# Calculate sum of each row\n",
        "row_sums = np.sum(arr, axis=1)\n",
        "\n",
        "print(\"2D Array:\")\n",
        "print(arr)\n",
        "\n",
        "print(\"\\nSum of each row:\")\n",
        "print(row_sums)\n"
      ],
      "metadata": {
        "colab": {
          "base_uri": "https://localhost:8080/"
        },
        "id": "McSrZo3B7CTX",
        "outputId": "9e566b09-f0c3-4259-cacb-52a93f9000df"
      },
      "execution_count": 1,
      "outputs": [
        {
          "output_type": "stream",
          "name": "stdout",
          "text": [
            "2D Array:\n",
            "[[ 1  2  3  4]\n",
            " [ 5  6  7  8]\n",
            " [ 9 10 11 12]]\n",
            "\n",
            "Sum of each row:\n",
            "[10 26 42]\n"
          ]
        }
      ]
    },
    {
      "cell_type": "code",
      "source": [
        "#Q2 Write a Pandas script to find the mean of a specific column in a DataFrame"
      ],
      "metadata": {
        "id": "1ugJ6NCj7CQn"
      },
      "execution_count": null,
      "outputs": []
    },
    {
      "cell_type": "code",
      "source": [
        "import pandas as pd\n",
        "\n",
        "# Sample data\n",
        "data = {\n",
        "    'Name': ['Alice', 'Bob', 'Charlie', 'David'],\n",
        "    'Age': [25, 30, 35, 40],\n",
        "    'Salary': [50000, 60000, 70000, 80000]\n",
        "}\n",
        "\n",
        "# Create DataFrame\n",
        "df = pd.DataFrame(data)\n",
        "\n",
        "# Find the mean of the 'Salary' column\n",
        "mean_salary = df['Salary'].mean()\n",
        "\n",
        "print(\"Mean Salary:\", mean_salary)\n"
      ],
      "metadata": {
        "colab": {
          "base_uri": "https://localhost:8080/"
        },
        "id": "RT8mfxmM7CNw",
        "outputId": "6219b682-38f9-4398-f302-6a14de28818d"
      },
      "execution_count": 2,
      "outputs": [
        {
          "output_type": "stream",
          "name": "stdout",
          "text": [
            "Mean Salary: 65000.0\n"
          ]
        }
      ]
    },
    {
      "cell_type": "code",
      "source": [
        "#Q3 Create a scatter plot using MatplotlibA"
      ],
      "metadata": {
        "id": "7dmJW_Is7CKm"
      },
      "execution_count": null,
      "outputs": []
    },
    {
      "cell_type": "code",
      "source": [
        "import matplotlib.pyplot as plt\n",
        "\n",
        "# Sample data\n",
        "x = [1, 2, 3, 4, 5]\n",
        "y = [2, 4, 1, 3, 7]\n",
        "\n",
        "# Create scatter plot\n",
        "plt.scatter(x, y, color='blue', marker='o')\n",
        "\n",
        "# Add labels and title\n",
        "plt.xlabel('X Axis')\n",
        "plt.ylabel('Y Axis')\n",
        "plt.title('Simple Scatter Plot')\n",
        "\n",
        "# Show the plot\n",
        "plt.show()\n"
      ],
      "metadata": {
        "colab": {
          "base_uri": "https://localhost:8080/",
          "height": 472
        },
        "id": "F10_N7Zg7CIG",
        "outputId": "d7855fe8-0768-4a69-c8f4-872c98945507"
      },
      "execution_count": 3,
      "outputs": [
        {
          "output_type": "display_data",
          "data": {
            "text/plain": [
              "<Figure size 640x480 with 1 Axes>"
            ],
            "image/png": "[encoded data removed]"
          },
          "metadata": {}
        }
      ]
    },
    {
      "cell_type": "code",
      "source": [
        "#Q4 How do you calculate the correlation matrix using Seaborn and visualize it with a heatmap"
      ],
      "metadata": {
        "id": "AtMr-coI7CFH"
      },
      "execution_count": null,
      "outputs": []
    },
    {
      "cell_type": "code",
      "source": [
        "import pandas as pd\n",
        "import seaborn as sns\n",
        "import matplotlib.pyplot as plt\n",
        "\n",
        "# Sample DataFrame\n",
        "data = {\n",
        "    'Math': [85, 90, 78, 92, 88],\n",
        "    'Science': [80, 85, 75, 89, 84],\n",
        "    'English': [78, 83, 77, 85, 80]\n",
        "}\n",
        "\n",
        "df = pd.DataFrame(data)\n",
        "\n",
        "# Calculate the correlation matrix\n",
        "corr_matrix = df.corr()\n",
        "\n",
        "# Plot the heatmap\n",
        "sns.heatmap(corr_matrix, annot=True, cmap='coolwarm', fmt=\".2f\")\n",
        "plt.title(\"Correlation Matrix Heatmap\")\n",
        "plt.show()\n"
      ],
      "metadata": {
        "colab": {
          "base_uri": "https://localhost:8080/",
          "height": 452
        },
        "id": "J-mx2BDu7CCf",
        "outputId": "3156bf52-afc9-4195-d75b-d8941e74ad9d"
      },
      "execution_count": 4,
      "outputs": [
        {
          "output_type": "display_data",
          "data": {
            "text/plain": [
              "<Figure size 640x480 with 2 Axes>"
            ],
            "image/png": "[encoded data removed]"
          },
          "metadata": {}
        }
      ]
    },
    {
      "cell_type": "code",
      "source": [
        "#Q5  Generate a bar plot using Plotly"
      ],
      "metadata": {
        "id": "88EqDE_r7B_G"
      },
      "execution_count": null,
      "outputs": []
    },
    {
      "cell_type": "code",
      "source": [
        "import plotly.express as px\n",
        "\n",
        "# Sample data\n",
        "data = {\n",
        "    'Fruits': ['Apples', 'Oranges', 'Bananas', 'Grapes'],\n",
        "    'Quantity': [10, 15, 7, 12]\n",
        "}\n",
        "\n",
        "# Create a Plotly bar plot\n",
        "fig = px.bar(data, x='Fruits', y='Quantity', title='Fruit Quantity Bar Plot')\n",
        "\n",
        "# Show the plot\n",
        "fig.show()\n"
      ],
      "metadata": {
        "colab": {
          "base_uri": "https://localhost:8080/",
          "height": 542
        },
        "id": "82fdtJfM7B7-",
        "outputId": "1128122a-2bc1-45f3-ac6b-0fe6da4b6995"
      },
      "execution_count": 5,
      "outputs": [
        {
          "output_type": "display_data",
          "data": {
            "text/html": [
              "<html>\n",
              "<head><meta charset=\"utf-8\" /></head>\n",
              "<body>\n",
              "    <div>            <script src=\"https://cdnjs.cloudflare.com/ajax/libs/mathjax/2.7.5/MathJax.js?config=TeX-AMS-MML_SVG\"></script><script type=\"text/javascript\">if (window.MathJax && window.MathJax.Hub && window.MathJax.Hub.Config) {window.MathJax.Hub.Config({SVG: {font: \"STIX-Web\"}});}</script>                <script type=\"text/javascript\">window.PlotlyConfig = {MathJaxConfig: 'local'};</script>\n",
              "        <script charset=\"utf-8\" src=\"https://cdn.plot.ly/plotly-2.35.2.min.js\"></script>                <div id=\"c5794d55-7642-44d4-be73-1af72a64254c\" class=\"plotly-graph-div\" style=\"height:525px; width:100%;\"></div>            <script type=\"text/javascript\">                                    window.PLOTLYENV=window.PLOTLYENV || {};                                    if (document.getElementById(\"c5794d55-7642-44d4-be73-1af72a64254c\")) {                    Plotly.newPlot(                        \"c5794d55-7642-44d4-be73-1af72a64254c\",                        [{\"alignmentgroup\":\"True\",\"hovertemplate\":\"Fruits=%{x}\\u003cbr\\u003eQuantity=%{y}\\u003cextra\\u003e\\u003c\\u002fextra\\u003e\",\"legendgroup\":\"\",\"marker\":{\"color\":\"#636efa\",\"pattern\":{\"shape\":\"\"}},\"name\":\"\",\"offsetgroup\":\"\",\"orientation\":\"v\",\"showlegend\":false,\"textposition\":\"auto\",\"x\":[\"Apples\",\"Oranges\",\"Bananas\",\"Grapes\"],\"xaxis\":\"x\",\"y\":[10,15,7,12],\"yaxis\":\"y\",\"type\":\"bar\"}],                        {\"template\":{\"data\":{\"histogram2dcontour\":[{\"type\":\"histogram2dcontour\",\"colorbar\":{\"outlinewidth\":0,\"ticks\":\"\"},\"colorscale\":[[0.0,\"#0d0887\"],[0.1111111111111111,\"#46039f\"],[0.2222222222222222,\"#7201a8\"],[0.3333333333333333,\"#9c179e\"],[0.4444444444444444,\"#bd3786\"],[0.5555555555555556,\"#d8576b\"],[0.6666666666666666,\"#ed7953\"],[0.7777777777777778,\"#fb9f3a\"],[0.8888888888888888,\"#fdca26\"],[1.0,\"#f0f921\"]]}],\"choropleth\":[{\"type\":\"choropleth\",\"colorbar\":{\"outlinewidth\":0,\"ticks\":\"\"}}],\"histogram2d\":[{\"type\":\"histogram2d\",\"colorbar\":{\"outlinewidth\":0,\"ticks\":\"\"},\"colorscale\":[[0.0,\"#0d0887\"],[0.1111111111111111,\"#46039f\"],[0.2222222222222222,\"#7201a8\"],[0.3333333333333333,\"#9c179e\"],[0.4444444444444444,\"#bd3786\"],[0.5555555555555556,\"#d8576b\"],[0.6666666666666666,\"#ed7953\"],[0.7777777777777778,\"#fb9f3a\"],[0.8888888888888888,\"#fdca26\"],[1.0,\"#f0f921\"]]}],\"heatmap\":[{\"type\":\"heatmap\",\"colorbar\":{\"outlinewidth\":0,\"ticks\":\"\"},\"colorscale\":[[0.0,\"#0d0887\"],[0.1111111111111111,\"#46039f\"],[0.2222222222222222,\"#7201a8\"],[0.3333333333333333,\"#9c179e\"],[0.4444444444444444,\"#bd3786\"],[0.5555555555555556,\"#d8576b\"],[0.6666666666666666,\"#ed7953\"],[0.7777777777777778,\"#fb9f3a\"],[0.8888888888888888,\"#fdca26\"],[1.0,\"#f0f921\"]]}],\"heatmapgl\":[{\"type\":\"heatmapgl\",\"colorbar\":{\"outlinewidth\":0,\"ticks\":\"\"},\"colorscale\":[[0.0,\"#0d0887\"],[0.1111111111111111,\"#46039f\"],[0.2222222222222222,\"#7201a8\"],[0.3333333333333333,\"#9c179e\"],[0.4444444444444444,\"#bd3786\"],[0.5555555555555556,\"#d8576b\"],[0.6666666666666666,\"#ed7953\"],[0.7777777777777778,\"#fb9f3a\"],[0.8888888888888888,\"#fdca26\"],[1.0,\"#f0f921\"]]}],\"contourcarpet\":[{\"type\":\"contourcarpet\",\"colorbar\":{\"outlinewidth\":0,\"ticks\":\"\"}}],\"contour\":[{\"type\":\"contour\",\"colorbar\":{\"outlinewidth\":0,\"ticks\":\"\"},\"colorscale\":[[0.0,\"#0d0887\"],[0.1111111111111111,\"#46039f\"],[0.2222222222222222,\"#7201a8\"],[0.3333333333333333,\"#9c179e\"],[0.4444444444444444,\"#bd3786\"],[0.5555555555555556,\"#d8576b\"],[0.6666666666666666,\"#ed7953\"],[0.7777777777777778,\"#fb9f3a\"],[0.8888888888888888,\"#fdca26\"],[1.0,\"#f0f921\"]]}],\"surface\":[{\"type\":\"surface\",\"colorbar\":{\"outlinewidth\":0,\"ticks\":\"\"},\"colorscale\":[[0.0,\"#0d0887\"],[0.1111111111111111,\"#46039f\"],[0.2222222222222222,\"#7201a8\"],[0.3333333333333333,\"#9c179e\"],[0.4444444444444444,\"#bd3786\"],[0.5555555555555556,\"#d8576b\"],[0.6666666666666666,\"#ed7953\"],[0.7777777777777778,\"#fb9f3a\"],[0.8888888888888888,\"#fdca26\"],[1.0,\"#f0f921\"]]}],\"mesh3d\":[{\"type\":\"mesh3d\",\"colorbar\":{\"outlinewidth\":0,\"ticks\":\"\"}}],\"scatter\":[{\"fillpattern\":{\"fillmode\":\"overlay\",\"size\":10,\"solidity\":0.2},\"type\":\"scatter\"}],\"parcoords\":[{\"type\":\"parcoords\",\"line\":{\"colorbar\":{\"outlinewidth\":0,\"ticks\":\"\"}}}],\"scatterpolargl\":[{\"type\":\"scatterpolargl\",\"marker\":{\"colorbar\":{\"outlinewidth\":0,\"ticks\":\"\"}}}],\"bar\":[{\"error_x\":{\"color\":\"#2a3f5f\"},\"error_y\":{\"color\":\"#2a3f5f\"},\"marker\":{\"line\":{\"color\":\"#E5ECF6\",\"width\":0.5},\"pattern\":{\"fillmode\":\"overlay\",\"size\":10,\"solidity\":0.2}},\"type\":\"bar\"}],\"scattergeo\":[{\"type\":\"scattergeo\",\"marker\":{\"colorbar\":{\"outlinewidth\":0,\"ticks\":\"\"}}}],\"scatterpolar\":[{\"type\":\"scatterpolar\",\"marker\":{\"colorbar\":{\"outlinewidth\":0,\"ticks\":\"\"}}}],\"histogram\":[{\"marker\":{\"pattern\":{\"fillmode\":\"overlay\",\"size\":10,\"solidity\":0.2}},\"type\":\"histogram\"}],\"scattergl\":[{\"type\":\"scattergl\",\"marker\":{\"colorbar\":{\"outlinewidth\":0,\"ticks\":\"\"}}}],\"scatter3d\":[{\"type\":\"scatter3d\",\"line\":{\"colorbar\":{\"outlinewidth\":0,\"ticks\":\"\"}},\"marker\":{\"colorbar\":{\"outlinewidth\":0,\"ticks\":\"\"}}}],\"scattermapbox\":[{\"type\":\"scattermapbox\",\"marker\":{\"colorbar\":{\"outlinewidth\":0,\"ticks\":\"\"}}}],\"scatterternary\":[{\"type\":\"scatterternary\",\"marker\":{\"colorbar\":{\"outlinewidth\":0,\"ticks\":\"\"}}}],\"scattercarpet\":[{\"type\":\"scattercarpet\",\"marker\":{\"colorbar\":{\"outlinewidth\":0,\"ticks\":\"\"}}}],\"carpet\":[{\"aaxis\":{\"endlinecolor\":\"#2a3f5f\",\"gridcolor\":\"white\",\"linecolor\":\"white\",\"minorgridcolor\":\"white\",\"startlinecolor\":\"#2a3f5f\"},\"baxis\":{\"endlinecolor\":\"#2a3f5f\",\"gridcolor\":\"white\",\"linecolor\":\"white\",\"minorgridcolor\":\"white\",\"startlinecolor\":\"#2a3f5f\"},\"type\":\"carpet\"}],\"table\":[{\"cells\":{\"fill\":{\"color\":\"#EBF0F8\"},\"line\":{\"color\":\"white\"}},\"header\":{\"fill\":{\"color\":\"#C8D4E3\"},\"line\":{\"color\":\"white\"}},\"type\":\"table\"}],\"barpolar\":[{\"marker\":{\"line\":{\"color\":\"#E5ECF6\",\"width\":0.5},\"pattern\":{\"fillmode\":\"overlay\",\"size\":10,\"solidity\":0.2}},\"type\":\"barpolar\"}],\"pie\":[{\"automargin\":true,\"type\":\"pie\"}]},\"layout\":{\"autotypenumbers\":\"strict\",\"colorway\":[\"#636efa\",\"#EF553B\",\"#00cc96\",\"#ab63fa\",\"#FFA15A\",\"#19d3f3\",\"#FF6692\",\"#B6E880\",\"#FF97FF\",\"#FECB52\"],\"font\":{\"color\":\"#2a3f5f\"},\"hovermode\":\"closest\",\"hoverlabel\":{\"align\":\"left\"},\"paper_bgcolor\":\"white\",\"plot_bgcolor\":\"#E5ECF6\",\"polar\":{\"bgcolor\":\"#E5ECF6\",\"angularaxis\":{\"gridcolor\":\"white\",\"linecolor\":\"white\",\"ticks\":\"\"},\"radialaxis\":{\"gridcolor\":\"white\",\"linecolor\":\"white\",\"ticks\":\"\"}},\"ternary\":{\"bgcolor\":\"#E5ECF6\",\"aaxis\":{\"gridcolor\":\"white\",\"linecolor\":\"white\",\"ticks\":\"\"},\"baxis\":{\"gridcolor\":\"white\",\"linecolor\":\"white\",\"ticks\":\"\"},\"caxis\":{\"gridcolor\":\"white\",\"linecolor\":\"white\",\"ticks\":\"\"}},\"coloraxis\":{\"colorbar\":{\"outlinewidth\":0,\"ticks\":\"\"}},\"colorscale\":{\"sequential\":[[0.0,\"#0d0887\"],[0.1111111111111111,\"#46039f\"],[0.2222222222222222,\"#7201a8\"],[0.3333333333333333,\"#9c179e\"],[0.4444444444444444,\"#bd3786\"],[0.5555555555555556,\"#d8576b\"],[0.6666666666666666,\"#ed7953\"],[0.7777777777777778,\"#fb9f3a\"],[0.8888888888888888,\"#fdca26\"],[1.0,\"#f0f921\"]],\"sequentialminus\":[[0.0,\"#0d0887\"],[0.1111111111111111,\"#46039f\"],[0.2222222222222222,\"#7201a8\"],[0.3333333333333333,\"#9c179e\"],[0.4444444444444444,\"#bd3786\"],[0.5555555555555556,\"#d8576b\"],[0.6666666666666666,\"#ed7953\"],[0.7777777777777778,\"#fb9f3a\"],[0.8888888888888888,\"#fdca26\"],[1.0,\"#f0f921\"]],\"diverging\":[[0,\"#8e0152\"],[0.1,\"#c51b7d\"],[0.2,\"#de77ae\"],[0.3,\"#f1b6da\"],[0.4,\"#fde0ef\"],[0.5,\"#f7f7f7\"],[0.6,\"#e6f5d0\"],[0.7,\"#b8e186\"],[0.8,\"#7fbc41\"],[0.9,\"#4d9221\"],[1,\"#276419\"]]},\"xaxis\":{\"gridcolor\":\"white\",\"linecolor\":\"white\",\"ticks\":\"\",\"title\":{\"standoff\":15},\"zerolinecolor\":\"white\",\"automargin\":true,\"zerolinewidth\":2},\"yaxis\":{\"gridcolor\":\"white\",\"linecolor\":\"white\",\"ticks\":\"\",\"title\":{\"standoff\":15},\"zerolinecolor\":\"white\",\"automargin\":true,\"zerolinewidth\":2},\"scene\":{\"xaxis\":{\"backgroundcolor\":\"#E5ECF6\",\"gridcolor\":\"white\",\"linecolor\":\"white\",\"showbackground\":true,\"ticks\":\"\",\"zerolinecolor\":\"white\",\"gridwidth\":2},\"yaxis\":{\"backgroundcolor\":\"#E5ECF6\",\"gridcolor\":\"white\",\"linecolor\":\"white\",\"showbackground\":true,\"ticks\":\"\",\"zerolinecolor\":\"white\",\"gridwidth\":2},\"zaxis\":{\"backgroundcolor\":\"#E5ECF6\",\"gridcolor\":\"white\",\"linecolor\":\"white\",\"showbackground\":true,\"ticks\":\"\",\"zerolinecolor\":\"white\",\"gridwidth\":2}},\"shapedefaults\":{\"line\":{\"color\":\"#2a3f5f\"}},\"annotationdefaults\":{\"arrowcolor\":\"#2a3f5f\",\"arrowhead\":0,\"arrowwidth\":1},\"geo\":{\"bgcolor\":\"white\",\"landcolor\":\"#E5ECF6\",\"subunitcolor\":\"white\",\"showland\":true,\"showlakes\":true,\"lakecolor\":\"white\"},\"title\":{\"x\":0.05},\"mapbox\":{\"style\":\"light\"}}},\"xaxis\":{\"anchor\":\"y\",\"domain\":[0.0,1.0],\"title\":{\"text\":\"Fruits\"}},\"yaxis\":{\"anchor\":\"x\",\"domain\":[0.0,1.0],\"title\":{\"text\":\"Quantity\"}},\"legend\":{\"tracegroupgap\":0},\"title\":{\"text\":\"Fruit Quantity Bar Plot\"},\"barmode\":\"relative\"},                        {\"responsive\": true}                    ).then(function(){\n",
              "                            \n",
              "var gd = document.getElementById('c5794d55-7642-44d4-be73-1af72a64254c');\n",
              "var x = new MutationObserver(function (mutations, observer) {{\n",
              "        var display = window.getComputedStyle(gd).display;\n",
              "        if (!display || display === 'none') {{\n",
              "            console.log([gd, 'removed!']);\n",
              "            Plotly.purge(gd);\n",
              "            observer.disconnect();\n",
              "        }}\n",
              "}});\n",
              "\n",
              "// Listen for the removal of the full notebook cells\n",
              "var notebookContainer = gd.closest('#notebook-container');\n",
              "if (notebookContainer) {{\n",
              "    x.observe(notebookContainer, {childList: true});\n",
              "}}\n",
              "\n",
              "// Listen for the clearing of the current output cell\n",
              "var outputEl = gd.closest('.output');\n",
              "if (outputEl) {{\n",
              "    x.observe(outputEl, {childList: true});\n",
              "}}\n",
              "\n",
              "                        })                };                            </script>        </div>\n",
              "</body>\n",
              "</html>"
            ]
          },
          "metadata": {}
        }
      ]
    },
    {
      "cell_type": "code",
      "source": [
        "#Q6 Create a DataFrame and add a new column based on an existing columnA"
      ],
      "metadata": {
        "id": "VSEn4F747B4_"
      },
      "execution_count": null,
      "outputs": []
    },
    {
      "cell_type": "code",
      "source": [
        "import pandas as pd\n",
        "\n",
        "# Create a sample DataFrame\n",
        "data = {\n",
        "    'Name': ['Alice', 'Bob', 'Charlie', 'David'],\n",
        "    'Age': [25, 30, 35, 40]\n",
        "}\n",
        "\n",
        "df = pd.DataFrame(data)\n",
        "\n",
        "# Add a new column 'Age_in_5_years' based on 'Age'\n",
        "df['Age_in_5_years'] = df['Age'] + 5\n",
        "\n",
        "print(df)\n"
      ],
      "metadata": {
        "colab": {
          "base_uri": "https://localhost:8080/"
        },
        "id": "TGouuO8Y7B2H",
        "outputId": "043afe17-3722-4c78-afcd-62442f8f8a16"
      },
      "execution_count": 6,
      "outputs": [
        {
          "output_type": "stream",
          "name": "stdout",
          "text": [
            "      Name  Age  Age_in_5_years\n",
            "0    Alice   25              30\n",
            "1      Bob   30              35\n",
            "2  Charlie   35              40\n",
            "3    David   40              45\n"
          ]
        }
      ]
    },
    {
      "cell_type": "code",
      "source": [
        "#Q7 Write a program to perform element-wise multiplication of two NumPy arrays"
      ],
      "metadata": {
        "id": "1wriJfqi7Bzf"
      },
      "execution_count": null,
      "outputs": []
    },
    {
      "cell_type": "code",
      "source": [
        "import numpy as np\n",
        "\n",
        "# Define two NumPy arrays\n",
        "arr1 = np.array([1, 2, 3, 4])\n",
        "arr2 = np.array([5, 6, 7, 8])\n",
        "\n",
        "# Element-wise multiplication\n",
        "result = arr1 * arr2\n",
        "\n",
        "print(\"Array 1:\", arr1)\n",
        "print(\"Array 2:\", arr2)\n",
        "print(\"Element-wise multiplication:\", result)\n"
      ],
      "metadata": {
        "colab": {
          "base_uri": "https://localhost:8080/"
        },
        "id": "ibpKfJnO7BwX",
        "outputId": "646c182b-d1df-49ca-c6eb-50d491987acd"
      },
      "execution_count": 7,
      "outputs": [
        {
          "output_type": "stream",
          "name": "stdout",
          "text": [
            "Array 1: [1 2 3 4]\n",
            "Array 2: [5 6 7 8]\n",
            "Element-wise multiplication: [ 5 12 21 32]\n"
          ]
        }
      ]
    },
    {
      "cell_type": "code",
      "source": [
        "#Q8 Create a line plot with multiple lines using Matplotlib"
      ],
      "metadata": {
        "id": "oxkPafbs7Btf"
      },
      "execution_count": null,
      "outputs": []
    },
    {
      "cell_type": "code",
      "source": [
        "import matplotlib.pyplot as plt\n",
        "\n",
        "# Sample data for two lines\n",
        "x = [1, 2, 3, 4, 5]\n",
        "y1 = [2, 3, 5, 7, 11]\n",
        "y2 = [1, 4, 6, 8, 10]\n",
        "\n",
        "# Plot first line\n",
        "plt.plot(x, y1, label='Line 1', marker='o')\n",
        "\n",
        "# Plot second line\n",
        "plt.plot(x, y2, label='Line 2', marker='s')\n",
        "\n",
        "# Add labels and title\n",
        "plt.xlabel('X-axis')\n",
        "plt.ylabel('Y-axis')\n",
        "plt.title('Line Plot with Multiple Lines')\n",
        "\n",
        "# Show legend\n",
        "plt.legend()\n",
        "\n",
        "# Display the plot\n",
        "plt.show()\n"
      ],
      "metadata": {
        "colab": {
          "base_uri": "https://localhost:8080/",
          "height": 472
        },
        "id": "orcC4fe07Bqg",
        "outputId": "90289c10-2dd0-479e-f483-fabbe9acadf8"
      },
      "execution_count": 8,
      "outputs": [
        {
          "output_type": "display_data",
          "data": {
            "text/plain": [
              "<Figure size 640x480 with 1 Axes>"
            ],
            "image/png": "[encoded data removed]"
          },
          "metadata": {}
        }
      ]
    },
    {
      "cell_type": "code",
      "source": [
        "#Q9 Generate a Pandas DataFrame and filter rows where a column value is greater than a threshold"
      ],
      "metadata": {
        "id": "-1N_0qiw7Bne"
      },
      "execution_count": null,
      "outputs": []
    },
    {
      "cell_type": "code",
      "source": [
        "import pandas as pd\n",
        "\n",
        "# Create sample DataFrame\n",
        "data = {\n",
        "    'Name': ['Alice', 'Bob', 'Charlie', 'David'],\n",
        "    'Age': [25, 30, 35, 40],\n",
        "    'Score': [85, 70, 90, 65]\n",
        "}\n",
        "\n",
        "df = pd.DataFrame(data)\n",
        "\n",
        "# Set threshold\n",
        "threshold = 80\n",
        "\n",
        "# Filter rows where 'Score' is greater than threshold\n",
        "filtered_df = df[df['Score'] > threshold]\n",
        "\n",
        "print(filtered_df)\n"
      ],
      "metadata": {
        "colab": {
          "base_uri": "https://localhost:8080/"
        },
        "id": "DEzeGq3A7BkR",
        "outputId": "2ad1e5f6-0c06-4a02-d174-a103f9ab8efe"
      },
      "execution_count": 9,
      "outputs": [
        {
          "output_type": "stream",
          "name": "stdout",
          "text": [
            "      Name  Age  Score\n",
            "0    Alice   25     85\n",
            "2  Charlie   35     90\n"
          ]
        }
      ]
    },
    {
      "cell_type": "code",
      "source": [
        "#Q10 Create a histogram using Seaborn to visualize a distributionA\n"
      ],
      "metadata": {
        "id": "FzHPsJGd7Bhw"
      },
      "execution_count": null,
      "outputs": []
    },
    {
      "cell_type": "code",
      "source": [
        "import seaborn as sns\n",
        "import matplotlib.pyplot as plt\n",
        "\n",
        "# Sample data\n",
        "data = [12, 15, 14, 10, 18, 21, 17, 15, 19, 14, 16, 20, 22, 18, 17]\n",
        "\n",
        "# Create histogram\n",
        "sns.histplot(data, bins=5, kde=False, color='skyblue')\n",
        "\n",
        "# Add title and labels\n",
        "plt.title('Histogram of Sample Data')\n",
        "plt.xlabel('Value')\n",
        "plt.ylabel('Frequency')\n",
        "\n",
        "# Show plot\n",
        "plt.show()\n"
      ],
      "metadata": {
        "colab": {
          "base_uri": "https://localhost:8080/",
          "height": 472
        },
        "id": "puVQRloz7Bep",
        "outputId": "8fc65c67-fc84-41ee-c50b-ceeb060485c9"
      },
      "execution_count": 10,
      "outputs": [
        {
          "output_type": "display_data",
          "data": {
            "text/plain": [
              "<Figure size 640x480 with 1 Axes>"
            ],
            "image/png": "[encoded data removed]"
          },
          "metadata": {}
        }
      ]
    },
    {
      "cell_type": "code",
      "source": [
        "#Q11 Perform matrix multiplication using NumPyA"
      ],
      "metadata": {
        "id": "N8A8PGMs7Bbq"
      },
      "execution_count": null,
      "outputs": []
    },
    {
      "cell_type": "code",
      "source": [
        "import numpy as np\n",
        "\n",
        "# Define two 2D arrays (matrices)\n",
        "A = np.array([[1, 2],\n",
        "              [3, 4]])\n",
        "\n",
        "B = np.array([[5, 6],\n",
        "              [7, 8]])\n",
        "\n",
        "# Perform matrix multiplication\n",
        "result = np.dot(A, B)  # or A @ B\n",
        "\n",
        "print(\"Matrix A:\")\n",
        "print(A)\n",
        "\n",
        "print(\"\\nMatrix B:\")\n",
        "print(B)\n",
        "\n",
        "print(\"\\nMatrix Multiplication Result:\")\n",
        "print(result)\n"
      ],
      "metadata": {
        "colab": {
          "base_uri": "https://localhost:8080/"
        },
        "id": "yar5zRkL7BYg",
        "outputId": "4ab5173f-3c29-47ee-b996-44ff7b9f42f7"
      },
      "execution_count": 11,
      "outputs": [
        {
          "output_type": "stream",
          "name": "stdout",
          "text": [
            "Matrix A:\n",
            "[[1 2]\n",
            " [3 4]]\n",
            "\n",
            "Matrix B:\n",
            "[[5 6]\n",
            " [7 8]]\n",
            "\n",
            "Matrix Multiplication Result:\n",
            "[[19 22]\n",
            " [43 50]]\n"
          ]
        }
      ]
    },
    {
      "cell_type": "code",
      "source": [
        "#Q12  Use Pandas to load a CSV file and display its first 5 rows"
      ],
      "metadata": {
        "id": "tokcLS4j7BVg"
      },
      "execution_count": null,
      "outputs": []
    },
    {
      "cell_type": "code",
      "source": [
        "import pandas as pd\n",
        "\n",
        "# Load CSV file into a DataFrame\n",
        "df = pd.read_csv('your_file.csv')  # Replace 'your_file.csv' with your actual file path\n",
        "\n",
        "# Display the first 5 rows\n",
        "print(df.head())\n"
      ],
      "metadata": {
        "colab": {
          "base_uri": "https://localhost:8080/",
          "height": 391
        },
        "collapsed": true,
        "id": "iKdzFrKp7BSq",
        "outputId": "b279bfc8-2e9c-4e79-8494-2338b16444c8"
      },
      "execution_count": 12,
      "outputs": [
        {
          "output_type": "error",
          "ename": "FileNotFoundError",
          "evalue": "[Errno 2] No such file or directory: 'your_file.csv'",
          "traceback": [
            "\u001b[0;31m---------------------------------------------------------------------------\u001b[0m",
            "\u001b[0;31mFileNotFoundError\u001b[0m                         Traceback (most recent call last)",
            "\u001b[0;32m<ipython-input-12-af2b87ba8dca>\u001b[0m in \u001b[0;36m<cell line: 0>\u001b[0;34m()\u001b[0m\n\u001b[1;32m      2\u001b[0m \u001b[0;34m\u001b[0m\u001b[0m\n\u001b[1;32m      3\u001b[0m \u001b[0;31m# Load CSV file into a DataFrame\u001b[0m\u001b[0;34m\u001b[0m\u001b[0;34m\u001b[0m\u001b[0m\n\u001b[0;32m----> 4\u001b[0;31m \u001b[0mdf\u001b[0m \u001b[0;34m=\u001b[0m \u001b[0mpd\u001b[0m\u001b[0;34m.\u001b[0m\u001b[0mread_csv\u001b[0m\u001b[0;34m(\u001b[0m\u001b[0;34m'your_file.csv'\u001b[0m\u001b[0;34m)\u001b[0m  \u001b[0;31m# Replace 'your_file.csv' with your actual file path\u001b[0m\u001b[0;34m\u001b[0m\u001b[0;34m\u001b[0m\u001b[0m\n\u001b[0m\u001b[1;32m      5\u001b[0m \u001b[0;34m\u001b[0m\u001b[0m\n\u001b[1;32m      6\u001b[0m \u001b[0;31m# Display the first 5 rows\u001b[0m\u001b[0;34m\u001b[0m\u001b[0;34m\u001b[0m\u001b[0m\n",
            "\u001b[0;32m/usr/local/lib/python3.11/dist-packages/pandas/io/parsers/readers.py\u001b[0m in \u001b[0;36mread_csv\u001b[0;34m(filepath_or_buffer, sep, delimiter, header, names, index_col, usecols, dtype, engine, converters, true_values, false_values, skipinitialspace, skiprows, skipfooter, nrows, na_values, keep_default_na, na_filter, verbose, skip_blank_lines, parse_dates, infer_datetime_format, keep_date_col, date_parser, date_format, dayfirst, cache_dates, iterator, chunksize, compression, thousands, decimal, lineterminator, quotechar, quoting, doublequote, escapechar, comment, encoding, encoding_errors, dialect, on_bad_lines, delim_whitespace, low_memory, memory_map, float_precision, storage_options, dtype_backend)\u001b[0m\n\u001b[1;32m   1024\u001b[0m     \u001b[0mkwds\u001b[0m\u001b[0;34m.\u001b[0m\u001b[0mupdate\u001b[0m\u001b[0;34m(\u001b[0m\u001b[0mkwds_defaults\u001b[0m\u001b[0;34m)\u001b[0m\u001b[0;34m\u001b[0m\u001b[0;34m\u001b[0m\u001b[0m\n\u001b[1;32m   1025\u001b[0m \u001b[0;34m\u001b[0m\u001b[0m\n\u001b[0;32m-> 1026\u001b[0;31m     \u001b[0;32mreturn\u001b[0m \u001b[0m_read\u001b[0m\u001b[0;34m(\u001b[0m\u001b[0mfilepath_or_buffer\u001b[0m\u001b[0;34m,\u001b[0m \u001b[0mkwds\u001b[0m\u001b[0;34m)\u001b[0m\u001b[0;34m\u001b[0m\u001b[0;34m\u001b[0m\u001b[0m\n\u001b[0m\u001b[1;32m   1027\u001b[0m \u001b[0;34m\u001b[0m\u001b[0m\n\u001b[1;32m   1028\u001b[0m \u001b[0;34m\u001b[0m\u001b[0m\n",
            "\u001b[0;32m/usr/local/lib/python3.11/dist-packages/pandas/io/parsers/readers.py\u001b[0m in \u001b[0;36m_read\u001b[0;34m(filepath_or_buffer, kwds)\u001b[0m\n\u001b[1;32m    618\u001b[0m \u001b[0;34m\u001b[0m\u001b[0m\n\u001b[1;32m    619\u001b[0m     \u001b[0;31m# Create the parser.\u001b[0m\u001b[0;34m\u001b[0m\u001b[0;34m\u001b[0m\u001b[0m\n\u001b[0;32m--> 620\u001b[0;31m     \u001b[0mparser\u001b[0m \u001b[0;34m=\u001b[0m \u001b[0mTextFileReader\u001b[0m\u001b[0;34m(\u001b[0m\u001b[0mfilepath_or_buffer\u001b[0m\u001b[0;34m,\u001b[0m \u001b[0;34m**\u001b[0m\u001b[0mkwds\u001b[0m\u001b[0;34m)\u001b[0m\u001b[0;34m\u001b[0m\u001b[0;34m\u001b[0m\u001b[0m\n\u001b[0m\u001b[1;32m    621\u001b[0m \u001b[0;34m\u001b[0m\u001b[0m\n\u001b[1;32m    622\u001b[0m     \u001b[0;32mif\u001b[0m \u001b[0mchunksize\u001b[0m \u001b[0;32mor\u001b[0m \u001b[0miterator\u001b[0m\u001b[0;34m:\u001b[0m\u001b[0;34m\u001b[0m\u001b[0;34m\u001b[0m\u001b[0m\n",
            "\u001b[0;32m/usr/local/lib/python3.11/dist-packages/pandas/io/parsers/readers.py\u001b[0m in \u001b[0;36m__init__\u001b[0;34m(self, f, engine, **kwds)\u001b[0m\n\u001b[1;32m   1618\u001b[0m \u001b[0;34m\u001b[0m\u001b[0m\n\u001b[1;32m   1619\u001b[0m         \u001b[0mself\u001b[0m\u001b[0;34m.\u001b[0m\u001b[0mhandles\u001b[0m\u001b[0;34m:\u001b[0m \u001b[0mIOHandles\u001b[0m \u001b[0;34m|\u001b[0m \u001b[0;32mNone\u001b[0m \u001b[0;34m=\u001b[0m \u001b[0;32mNone\u001b[0m\u001b[0;34m\u001b[0m\u001b[0;34m\u001b[0m\u001b[0m\n\u001b[0;32m-> 1620\u001b[0;31m         \u001b[0mself\u001b[0m\u001b[0;34m.\u001b[0m\u001b[0m_engine\u001b[0m \u001b[0;34m=\u001b[0m \u001b[0mself\u001b[0m\u001b[0;34m.\u001b[0m\u001b[0m_make_engine\u001b[0m\u001b[0;34m(\u001b[0m\u001b[0mf\u001b[0m\u001b[0;34m,\u001b[0m \u001b[0mself\u001b[0m\u001b[0;34m.\u001b[0m\u001b[0mengine\u001b[0m\u001b[0;34m)\u001b[0m\u001b[0;34m\u001b[0m\u001b[0;34m\u001b[0m\u001b[0m\n\u001b[0m\u001b[1;32m   1621\u001b[0m \u001b[0;34m\u001b[0m\u001b[0m\n\u001b[1;32m   1622\u001b[0m     \u001b[0;32mdef\u001b[0m \u001b[0mclose\u001b[0m\u001b[0;34m(\u001b[0m\u001b[0mself\u001b[0m\u001b[0;34m)\u001b[0m \u001b[0;34m->\u001b[0m \u001b[0;32mNone\u001b[0m\u001b[0;34m:\u001b[0m\u001b[0;34m\u001b[0m\u001b[0;34m\u001b[0m\u001b[0m\n",
            "\u001b[0;32m/usr/local/lib/python3.11/dist-packages/pandas/io/parsers/readers.py\u001b[0m in \u001b[0;36m_make_engine\u001b[0;34m(self, f, engine)\u001b[0m\n\u001b[1;32m   1878\u001b[0m                 \u001b[0;32mif\u001b[0m \u001b[0;34m\"b\"\u001b[0m \u001b[0;32mnot\u001b[0m \u001b[0;32min\u001b[0m \u001b[0mmode\u001b[0m\u001b[0;34m:\u001b[0m\u001b[0;34m\u001b[0m\u001b[0;34m\u001b[0m\u001b[0m\n\u001b[1;32m   1879\u001b[0m                     \u001b[0mmode\u001b[0m \u001b[0;34m+=\u001b[0m \u001b[0;34m\"b\"\u001b[0m\u001b[0;34m\u001b[0m\u001b[0;34m\u001b[0m\u001b[0m\n\u001b[0;32m-> 1880\u001b[0;31m             self.handles = get_handle(\n\u001b[0m\u001b[1;32m   1881\u001b[0m                 \u001b[0mf\u001b[0m\u001b[0;34m,\u001b[0m\u001b[0;34m\u001b[0m\u001b[0;34m\u001b[0m\u001b[0m\n\u001b[1;32m   1882\u001b[0m                 \u001b[0mmode\u001b[0m\u001b[0;34m,\u001b[0m\u001b[0;34m\u001b[0m\u001b[0;34m\u001b[0m\u001b[0m\n",
            "\u001b[0;32m/usr/local/lib/python3.11/dist-packages/pandas/io/common.py\u001b[0m in \u001b[0;36mget_handle\u001b[0;34m(path_or_buf, mode, encoding, compression, memory_map, is_text, errors, storage_options)\u001b[0m\n\u001b[1;32m    871\u001b[0m         \u001b[0;32mif\u001b[0m \u001b[0mioargs\u001b[0m\u001b[0;34m.\u001b[0m\u001b[0mencoding\u001b[0m \u001b[0;32mand\u001b[0m \u001b[0;34m\"b\"\u001b[0m \u001b[0;32mnot\u001b[0m \u001b[0;32min\u001b[0m \u001b[0mioargs\u001b[0m\u001b[0;34m.\u001b[0m\u001b[0mmode\u001b[0m\u001b[0;34m:\u001b[0m\u001b[0;34m\u001b[0m\u001b[0;34m\u001b[0m\u001b[0m\n\u001b[1;32m    872\u001b[0m             \u001b[0;31m# Encoding\u001b[0m\u001b[0;34m\u001b[0m\u001b[0;34m\u001b[0m\u001b[0m\n\u001b[0;32m--> 873\u001b[0;31m             handle = open(\n\u001b[0m\u001b[1;32m    874\u001b[0m                 \u001b[0mhandle\u001b[0m\u001b[0;34m,\u001b[0m\u001b[0;34m\u001b[0m\u001b[0;34m\u001b[0m\u001b[0m\n\u001b[1;32m    875\u001b[0m                 \u001b[0mioargs\u001b[0m\u001b[0;34m.\u001b[0m\u001b[0mmode\u001b[0m\u001b[0;34m,\u001b[0m\u001b[0;34m\u001b[0m\u001b[0;34m\u001b[0m\u001b[0m\n",
            "\u001b[0;31mFileNotFoundError\u001b[0m: [Errno 2] No such file or directory: 'your_file.csv'"
          ]
        }
      ]
    },
    {
      "cell_type": "code",
      "source": [
        "#Q13 Create a 3D scatter plot using Plotly"
      ],
      "metadata": {
        "id": "rr8R-d8Q7BP6"
      },
      "execution_count": null,
      "outputs": []
    },
    {
      "cell_type": "code",
      "source": [
        "import plotly.express as px\n",
        "import pandas as pd\n",
        "\n",
        "# Sample data\n",
        "data = {\n",
        "    'X': [1, 2, 3, 4, 5],\n",
        "    'Y': [10, 11, 12, 13, 14],\n",
        "    'Z': [5, 6, 7, 8, 9],\n",
        "    'Category': ['A', 'B', 'A', 'B', 'A']\n",
        "}\n",
        "\n",
        "df = pd.DataFrame(data)\n",
        "\n",
        "# Create 3D scatter plot\n",
        "fig = px.scatter_3d(df, x='X', y='Y', z='Z', color='Category', title='3D Scatter Plot Example')\n",
        "\n",
        "# Show plot\n",
        "fig.show()\n"
      ],
      "metadata": {
        "colab": {
          "base_uri": "https://localhost:8080/",
          "height": 542
        },
        "id": "LZzciu7Z7BNI",
        "outputId": "0ce9dedb-7066-45c1-dbfa-ef2814e77bf8"
      },
      "execution_count": 13,
      "outputs": [
        {
          "output_type": "display_data",
          "data": {
            "text/html": [
              "<html>\n",
              "<head><meta charset=\"utf-8\" /></head>\n",
              "<body>\n",
              "    <div>            <script src=\"https://cdnjs.cloudflare.com/ajax/libs/mathjax/2.7.5/MathJax.js?config=TeX-AMS-MML_SVG\"></script><script type=\"text/javascript\">if (window.MathJax && window.MathJax.Hub && window.MathJax.Hub.Config) {window.MathJax.Hub.Config({SVG: {font: \"STIX-Web\"}});}</script>                <script type=\"text/javascript\">window.PlotlyConfig = {MathJaxConfig: 'local'};</script>\n",
              "        <script charset=\"utf-8\" src=\"https://cdn.plot.ly/plotly-2.35.2.min.js\"></script>                <div id=\"b74454d9-b867-401d-9e20-f199e6b0743a\" class=\"plotly-graph-div\" style=\"height:525px; width:100%;\"></div>            <script type=\"text/javascript\">                                    window.PLOTLYENV=window.PLOTLYENV || {};                                    if (document.getElementById(\"b74454d9-b867-401d-9e20-f199e6b0743a\")) {                    Plotly.newPlot(                        \"b74454d9-b867-401d-9e20-f199e6b0743a\",                        [{\"hovertemplate\":\"Category=A\\u003cbr\\u003eX=%{x}\\u003cbr\\u003eY=%{y}\\u003cbr\\u003eZ=%{z}\\u003cextra\\u003e\\u003c\\u002fextra\\u003e\",\"legendgroup\":\"A\",\"marker\":{\"color\":\"#636efa\",\"symbol\":\"circle\"},\"mode\":\"markers\",\"name\":\"A\",\"scene\":\"scene\",\"showlegend\":true,\"x\":[1,3,5],\"y\":[10,12,14],\"z\":[5,7,9],\"type\":\"scatter3d\"},{\"hovertemplate\":\"Category=B\\u003cbr\\u003eX=%{x}\\u003cbr\\u003eY=%{y}\\u003cbr\\u003eZ=%{z}\\u003cextra\\u003e\\u003c\\u002fextra\\u003e\",\"legendgroup\":\"B\",\"marker\":{\"color\":\"#EF553B\",\"symbol\":\"circle\"},\"mode\":\"markers\",\"name\":\"B\",\"scene\":\"scene\",\"showlegend\":true,\"x\":[2,4],\"y\":[11,13],\"z\":[6,8],\"type\":\"scatter3d\"}],                        {\"template\":{\"data\":{\"histogram2dcontour\":[{\"type\":\"histogram2dcontour\",\"colorbar\":{\"outlinewidth\":0,\"ticks\":\"\"},\"colorscale\":[[0.0,\"#0d0887\"],[0.1111111111111111,\"#46039f\"],[0.2222222222222222,\"#7201a8\"],[0.3333333333333333,\"#9c179e\"],[0.4444444444444444,\"#bd3786\"],[0.5555555555555556,\"#d8576b\"],[0.6666666666666666,\"#ed7953\"],[0.7777777777777778,\"#fb9f3a\"],[0.8888888888888888,\"#fdca26\"],[1.0,\"#f0f921\"]]}],\"choropleth\":[{\"type\":\"choropleth\",\"colorbar\":{\"outlinewidth\":0,\"ticks\":\"\"}}],\"histogram2d\":[{\"type\":\"histogram2d\",\"colorbar\":{\"outlinewidth\":0,\"ticks\":\"\"},\"colorscale\":[[0.0,\"#0d0887\"],[0.1111111111111111,\"#46039f\"],[0.2222222222222222,\"#7201a8\"],[0.3333333333333333,\"#9c179e\"],[0.4444444444444444,\"#bd3786\"],[0.5555555555555556,\"#d8576b\"],[0.6666666666666666,\"#ed7953\"],[0.7777777777777778,\"#fb9f3a\"],[0.8888888888888888,\"#fdca26\"],[1.0,\"#f0f921\"]]}],\"heatmap\":[{\"type\":\"heatmap\",\"colorbar\":{\"outlinewidth\":0,\"ticks\":\"\"},\"colorscale\":[[0.0,\"#0d0887\"],[0.1111111111111111,\"#46039f\"],[0.2222222222222222,\"#7201a8\"],[0.3333333333333333,\"#9c179e\"],[0.4444444444444444,\"#bd3786\"],[0.5555555555555556,\"#d8576b\"],[0.6666666666666666,\"#ed7953\"],[0.7777777777777778,\"#fb9f3a\"],[0.8888888888888888,\"#fdca26\"],[1.0,\"#f0f921\"]]}],\"heatmapgl\":[{\"type\":\"heatmapgl\",\"colorbar\":{\"outlinewidth\":0,\"ticks\":\"\"},\"colorscale\":[[0.0,\"#0d0887\"],[0.1111111111111111,\"#46039f\"],[0.2222222222222222,\"#7201a8\"],[0.3333333333333333,\"#9c179e\"],[0.4444444444444444,\"#bd3786\"],[0.5555555555555556,\"#d8576b\"],[0.6666666666666666,\"#ed7953\"],[0.7777777777777778,\"#fb9f3a\"],[0.8888888888888888,\"#fdca26\"],[1.0,\"#f0f921\"]]}],\"contourcarpet\":[{\"type\":\"contourcarpet\",\"colorbar\":{\"outlinewidth\":0,\"ticks\":\"\"}}],\"contour\":[{\"type\":\"contour\",\"colorbar\":{\"outlinewidth\":0,\"ticks\":\"\"},\"colorscale\":[[0.0,\"#0d0887\"],[0.1111111111111111,\"#46039f\"],[0.2222222222222222,\"#7201a8\"],[0.3333333333333333,\"#9c179e\"],[0.4444444444444444,\"#bd3786\"],[0.5555555555555556,\"#d8576b\"],[0.6666666666666666,\"#ed7953\"],[0.7777777777777778,\"#fb9f3a\"],[0.8888888888888888,\"#fdca26\"],[1.0,\"#f0f921\"]]}],\"surface\":[{\"type\":\"surface\",\"colorbar\":{\"outlinewidth\":0,\"ticks\":\"\"},\"colorscale\":[[0.0,\"#0d0887\"],[0.1111111111111111,\"#46039f\"],[0.2222222222222222,\"#7201a8\"],[0.3333333333333333,\"#9c179e\"],[0.4444444444444444,\"#bd3786\"],[0.5555555555555556,\"#d8576b\"],[0.6666666666666666,\"#ed7953\"],[0.7777777777777778,\"#fb9f3a\"],[0.8888888888888888,\"#fdca26\"],[1.0,\"#f0f921\"]]}],\"mesh3d\":[{\"type\":\"mesh3d\",\"colorbar\":{\"outlinewidth\":0,\"ticks\":\"\"}}],\"scatter\":[{\"fillpattern\":{\"fillmode\":\"overlay\",\"size\":10,\"solidity\":0.2},\"type\":\"scatter\"}],\"parcoords\":[{\"type\":\"parcoords\",\"line\":{\"colorbar\":{\"outlinewidth\":0,\"ticks\":\"\"}}}],\"scatterpolargl\":[{\"type\":\"scatterpolargl\",\"marker\":{\"colorbar\":{\"outlinewidth\":0,\"ticks\":\"\"}}}],\"bar\":[{\"error_x\":{\"color\":\"#2a3f5f\"},\"error_y\":{\"color\":\"#2a3f5f\"},\"marker\":{\"line\":{\"color\":\"#E5ECF6\",\"width\":0.5},\"pattern\":{\"fillmode\":\"overlay\",\"size\":10,\"solidity\":0.2}},\"type\":\"bar\"}],\"scattergeo\":[{\"type\":\"scattergeo\",\"marker\":{\"colorbar\":{\"outlinewidth\":0,\"ticks\":\"\"}}}],\"scatterpolar\":[{\"type\":\"scatterpolar\",\"marker\":{\"colorbar\":{\"outlinewidth\":0,\"ticks\":\"\"}}}],\"histogram\":[{\"marker\":{\"pattern\":{\"fillmode\":\"overlay\",\"size\":10,\"solidity\":0.2}},\"type\":\"histogram\"}],\"scattergl\":[{\"type\":\"scattergl\",\"marker\":{\"colorbar\":{\"outlinewidth\":0,\"ticks\":\"\"}}}],\"scatter3d\":[{\"type\":\"scatter3d\",\"line\":{\"colorbar\":{\"outlinewidth\":0,\"ticks\":\"\"}},\"marker\":{\"colorbar\":{\"outlinewidth\":0,\"ticks\":\"\"}}}],\"scattermapbox\":[{\"type\":\"scattermapbox\",\"marker\":{\"colorbar\":{\"outlinewidth\":0,\"ticks\":\"\"}}}],\"scatterternary\":[{\"type\":\"scatterternary\",\"marker\":{\"colorbar\":{\"outlinewidth\":0,\"ticks\":\"\"}}}],\"scattercarpet\":[{\"type\":\"scattercarpet\",\"marker\":{\"colorbar\":{\"outlinewidth\":0,\"ticks\":\"\"}}}],\"carpet\":[{\"aaxis\":{\"endlinecolor\":\"#2a3f5f\",\"gridcolor\":\"white\",\"linecolor\":\"white\",\"minorgridcolor\":\"white\",\"startlinecolor\":\"#2a3f5f\"},\"baxis\":{\"endlinecolor\":\"#2a3f5f\",\"gridcolor\":\"white\",\"linecolor\":\"white\",\"minorgridcolor\":\"white\",\"startlinecolor\":\"#2a3f5f\"},\"type\":\"carpet\"}],\"table\":[{\"cells\":{\"fill\":{\"color\":\"#EBF0F8\"},\"line\":{\"color\":\"white\"}},\"header\":{\"fill\":{\"color\":\"#C8D4E3\"},\"line\":{\"color\":\"white\"}},\"type\":\"table\"}],\"barpolar\":[{\"marker\":{\"line\":{\"color\":\"#E5ECF6\",\"width\":0.5},\"pattern\":{\"fillmode\":\"overlay\",\"size\":10,\"solidity\":0.2}},\"type\":\"barpolar\"}],\"pie\":[{\"automargin\":true,\"type\":\"pie\"}]},\"layout\":{\"autotypenumbers\":\"strict\",\"colorway\":[\"#636efa\",\"#EF553B\",\"#00cc96\",\"#ab63fa\",\"#FFA15A\",\"#19d3f3\",\"#FF6692\",\"#B6E880\",\"#FF97FF\",\"#FECB52\"],\"font\":{\"color\":\"#2a3f5f\"},\"hovermode\":\"closest\",\"hoverlabel\":{\"align\":\"left\"},\"paper_bgcolor\":\"white\",\"plot_bgcolor\":\"#E5ECF6\",\"polar\":{\"bgcolor\":\"#E5ECF6\",\"angularaxis\":{\"gridcolor\":\"white\",\"linecolor\":\"white\",\"ticks\":\"\"},\"radialaxis\":{\"gridcolor\":\"white\",\"linecolor\":\"white\",\"ticks\":\"\"}},\"ternary\":{\"bgcolor\":\"#E5ECF6\",\"aaxis\":{\"gridcolor\":\"white\",\"linecolor\":\"white\",\"ticks\":\"\"},\"baxis\":{\"gridcolor\":\"white\",\"linecolor\":\"white\",\"ticks\":\"\"},\"caxis\":{\"gridcolor\":\"white\",\"linecolor\":\"white\",\"ticks\":\"\"}},\"coloraxis\":{\"colorbar\":{\"outlinewidth\":0,\"ticks\":\"\"}},\"colorscale\":{\"sequential\":[[0.0,\"#0d0887\"],[0.1111111111111111,\"#46039f\"],[0.2222222222222222,\"#7201a8\"],[0.3333333333333333,\"#9c179e\"],[0.4444444444444444,\"#bd3786\"],[0.5555555555555556,\"#d8576b\"],[0.6666666666666666,\"#ed7953\"],[0.7777777777777778,\"#fb9f3a\"],[0.8888888888888888,\"#fdca26\"],[1.0,\"#f0f921\"]],\"sequentialminus\":[[0.0,\"#0d0887\"],[0.1111111111111111,\"#46039f\"],[0.2222222222222222,\"#7201a8\"],[0.3333333333333333,\"#9c179e\"],[0.4444444444444444,\"#bd3786\"],[0.5555555555555556,\"#d8576b\"],[0.6666666666666666,\"#ed7953\"],[0.7777777777777778,\"#fb9f3a\"],[0.8888888888888888,\"#fdca26\"],[1.0,\"#f0f921\"]],\"diverging\":[[0,\"#8e0152\"],[0.1,\"#c51b7d\"],[0.2,\"#de77ae\"],[0.3,\"#f1b6da\"],[0.4,\"#fde0ef\"],[0.5,\"#f7f7f7\"],[0.6,\"#e6f5d0\"],[0.7,\"#b8e186\"],[0.8,\"#7fbc41\"],[0.9,\"#4d9221\"],[1,\"#276419\"]]},\"xaxis\":{\"gridcolor\":\"white\",\"linecolor\":\"white\",\"ticks\":\"\",\"title\":{\"standoff\":15},\"zerolinecolor\":\"white\",\"automargin\":true,\"zerolinewidth\":2},\"yaxis\":{\"gridcolor\":\"white\",\"linecolor\":\"white\",\"ticks\":\"\",\"title\":{\"standoff\":15},\"zerolinecolor\":\"white\",\"automargin\":true,\"zerolinewidth\":2},\"scene\":{\"xaxis\":{\"backgroundcolor\":\"#E5ECF6\",\"gridcolor\":\"white\",\"linecolor\":\"white\",\"showbackground\":true,\"ticks\":\"\",\"zerolinecolor\":\"white\",\"gridwidth\":2},\"yaxis\":{\"backgroundcolor\":\"#E5ECF6\",\"gridcolor\":\"white\",\"linecolor\":\"white\",\"showbackground\":true,\"ticks\":\"\",\"zerolinecolor\":\"white\",\"gridwidth\":2},\"zaxis\":{\"backgroundcolor\":\"#E5ECF6\",\"gridcolor\":\"white\",\"linecolor\":\"white\",\"showbackground\":true,\"ticks\":\"\",\"zerolinecolor\":\"white\",\"gridwidth\":2}},\"shapedefaults\":{\"line\":{\"color\":\"#2a3f5f\"}},\"annotationdefaults\":{\"arrowcolor\":\"#2a3f5f\",\"arrowhead\":0,\"arrowwidth\":1},\"geo\":{\"bgcolor\":\"white\",\"landcolor\":\"#E5ECF6\",\"subunitcolor\":\"white\",\"showland\":true,\"showlakes\":true,\"lakecolor\":\"white\"},\"title\":{\"x\":0.05},\"mapbox\":{\"style\":\"light\"}}},\"scene\":{\"domain\":{\"x\":[0.0,1.0],\"y\":[0.0,1.0]},\"xaxis\":{\"title\":{\"text\":\"X\"}},\"yaxis\":{\"title\":{\"text\":\"Y\"}},\"zaxis\":{\"title\":{\"text\":\"Z\"}}},\"legend\":{\"title\":{\"text\":\"Category\"},\"tracegroupgap\":0},\"title\":{\"text\":\"3D Scatter Plot Example\"}},                        {\"responsive\": true}                    ).then(function(){\n",
              "                            \n",
              "var gd = document.getElementById('b74454d9-b867-401d-9e20-f199e6b0743a');\n",
              "var x = new MutationObserver(function (mutations, observer) {{\n",
              "        var display = window.getComputedStyle(gd).display;\n",
              "        if (!display || display === 'none') {{\n",
              "            console.log([gd, 'removed!']);\n",
              "            Plotly.purge(gd);\n",
              "            observer.disconnect();\n",
              "        }}\n",
              "}});\n",
              "\n",
              "// Listen for the removal of the full notebook cells\n",
              "var notebookContainer = gd.closest('#notebook-container');\n",
              "if (notebookContainer) {{\n",
              "    x.observe(notebookContainer, {childList: true});\n",
              "}}\n",
              "\n",
              "// Listen for the clearing of the current output cell\n",
              "var outputEl = gd.closest('.output');\n",
              "if (outputEl) {{\n",
              "    x.observe(outputEl, {childList: true});\n",
              "}}\n",
              "\n",
              "                        })                };                            </script>        </div>\n",
              "</body>\n",
              "</html>"
            ]
          },
          "metadata": {}
        }
      ]
    }
  ]
}